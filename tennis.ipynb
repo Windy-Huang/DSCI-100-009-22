{
 "cells": [
  {
   "cell_type": "code",
   "execution_count": 4,
   "id": "0b23801b-ba27-4ed7-8bee-d27aac67cd0f",
   "metadata": {},
   "outputs": [
    {
     "name": "stderr",
     "output_type": "stream",
     "text": [
      "── \u001b[1mAttaching packages\u001b[22m ────────────────────────────────────── tidymodels 1.0.0 ──\n",
      "\n",
      "\u001b[32m✔\u001b[39m \u001b[34mbroom       \u001b[39m 1.0.2     \u001b[32m✔\u001b[39m \u001b[34mrsample     \u001b[39m 1.1.1\n",
      "\u001b[32m✔\u001b[39m \u001b[34mdials       \u001b[39m 1.1.0     \u001b[32m✔\u001b[39m \u001b[34mtune        \u001b[39m 1.0.1\n",
      "\u001b[32m✔\u001b[39m \u001b[34minfer       \u001b[39m 1.0.4     \u001b[32m✔\u001b[39m \u001b[34mworkflows   \u001b[39m 1.1.2\n",
      "\u001b[32m✔\u001b[39m \u001b[34mmodeldata   \u001b[39m 1.0.1     \u001b[32m✔\u001b[39m \u001b[34mworkflowsets\u001b[39m 1.0.0\n",
      "\u001b[32m✔\u001b[39m \u001b[34mparsnip     \u001b[39m 1.0.3     \u001b[32m✔\u001b[39m \u001b[34myardstick   \u001b[39m 1.1.0\n",
      "\u001b[32m✔\u001b[39m \u001b[34mrecipes     \u001b[39m 1.0.4     \n",
      "\n",
      "── \u001b[1mConflicts\u001b[22m ───────────────────────────────────────── tidymodels_conflicts() ──\n",
      "\u001b[31m✖\u001b[39m \u001b[34mscales\u001b[39m::\u001b[32mdiscard()\u001b[39m masks \u001b[34mpurrr\u001b[39m::discard()\n",
      "\u001b[31m✖\u001b[39m \u001b[34mdplyr\u001b[39m::\u001b[32mfilter()\u001b[39m   masks \u001b[34mstats\u001b[39m::filter()\n",
      "\u001b[31m✖\u001b[39m \u001b[34mrecipes\u001b[39m::\u001b[32mfixed()\u001b[39m  masks \u001b[34mstringr\u001b[39m::fixed()\n",
      "\u001b[31m✖\u001b[39m \u001b[34mdplyr\u001b[39m::\u001b[32mlag()\u001b[39m      masks \u001b[34mstats\u001b[39m::lag()\n",
      "\u001b[31m✖\u001b[39m \u001b[34myardstick\u001b[39m::\u001b[32mspec()\u001b[39m masks \u001b[34mreadr\u001b[39m::spec()\n",
      "\u001b[31m✖\u001b[39m \u001b[34mrecipes\u001b[39m::\u001b[32mstep()\u001b[39m   masks \u001b[34mstats\u001b[39m::step()\n",
      "\u001b[34m•\u001b[39m Use suppressPackageStartupMessages() to eliminate package startup messages\n",
      "\n",
      "Warning message in file(filename, \"r\", encoding = encoding):\n",
      "“cannot open file 'tests.R': No such file or directory”\n"
     ]
    },
    {
     "ename": "ERROR",
     "evalue": "Error in file(filename, \"r\", encoding = encoding): cannot open the connection\n",
     "output_type": "error",
     "traceback": [
      "Error in file(filename, \"r\", encoding = encoding): cannot open the connection\nTraceback:\n",
      "1. source(\"tests.R\")",
      "2. file(filename, \"r\", encoding = encoding)"
     ]
    }
   ],
   "source": [
    "library(repr)\n",
    "library(tidyverse)\n",
    "library(tidymodels)\n",
    "options(repr.matrix.max.rows = 10)\n",
    "source('tests.R')\n",
    "source(\"cleanup.R\")"
   ]
  },
  {
   "cell_type": "code",
   "execution_count": 6,
   "id": "f5fbe9c8-38eb-43f6-bc53-ce98b3db193c",
   "metadata": {},
   "outputs": [
    {
     "name": "stderr",
     "output_type": "stream",
     "text": [
      "\u001b[1m\u001b[22mNew names:\n",
      "\u001b[36m•\u001b[39m `` -> `...1`\n",
      "\u001b[1mRows: \u001b[22m\u001b[34m6866\u001b[39m \u001b[1mColumns: \u001b[22m\u001b[34m50\u001b[39m\n",
      "\u001b[36m──\u001b[39m \u001b[1mColumn specification\u001b[22m \u001b[36m────────────────────────────────────────────────────────\u001b[39m\n",
      "\u001b[1mDelimiter:\u001b[22m \",\"\n",
      "\u001b[31mchr\u001b[39m (16): tourney_id, tourney_name, surface, tourney_level, winner_seed, win...\n",
      "\u001b[32mdbl\u001b[39m (34): ...1, draw_size, tourney_date, match_num, winner_id, winner_ht, wi...\n",
      "\n",
      "\u001b[36mℹ\u001b[39m Use `spec()` to retrieve the full column specification for this data.\n",
      "\u001b[36mℹ\u001b[39m Specify the column types or set `show_col_types = FALSE` to quiet this message.\n"
     ]
    },
    {
     "data": {
      "text/html": [
       "<table class=\"dataframe\">\n",
       "<caption>A spec_tbl_df: 6866 × 50</caption>\n",
       "<thead>\n",
       "\t<tr><th scope=col>...1</th><th scope=col>tourney_id</th><th scope=col>tourney_name</th><th scope=col>surface</th><th scope=col>draw_size</th><th scope=col>tourney_level</th><th scope=col>tourney_date</th><th scope=col>match_num</th><th scope=col>winner_id</th><th scope=col>winner_seed</th><th scope=col>⋯</th><th scope=col>l_1stIn</th><th scope=col>l_1stWon</th><th scope=col>l_2ndWon</th><th scope=col>l_SvGms</th><th scope=col>l_bpSaved</th><th scope=col>l_bpFaced</th><th scope=col>winner_rank</th><th scope=col>winner_rank_points</th><th scope=col>loser_rank</th><th scope=col>loser_rank_points</th></tr>\n",
       "\t<tr><th scope=col>&lt;dbl&gt;</th><th scope=col>&lt;chr&gt;</th><th scope=col>&lt;chr&gt;</th><th scope=col>&lt;chr&gt;</th><th scope=col>&lt;dbl&gt;</th><th scope=col>&lt;chr&gt;</th><th scope=col>&lt;dbl&gt;</th><th scope=col>&lt;dbl&gt;</th><th scope=col>&lt;dbl&gt;</th><th scope=col>&lt;chr&gt;</th><th scope=col>⋯</th><th scope=col>&lt;dbl&gt;</th><th scope=col>&lt;dbl&gt;</th><th scope=col>&lt;dbl&gt;</th><th scope=col>&lt;dbl&gt;</th><th scope=col>&lt;dbl&gt;</th><th scope=col>&lt;dbl&gt;</th><th scope=col>&lt;dbl&gt;</th><th scope=col>&lt;dbl&gt;</th><th scope=col>&lt;dbl&gt;</th><th scope=col>&lt;dbl&gt;</th></tr>\n",
       "</thead>\n",
       "<tbody>\n",
       "\t<tr><td>0</td><td>2019-M020</td><td>Brisbane</td><td>Hard</td><td>32</td><td>A</td><td>20181231</td><td>300</td><td>105453</td><td>2 </td><td>⋯</td><td>54</td><td>34</td><td>20</td><td>14</td><td>10</td><td>15</td><td>  9</td><td>3590</td><td> 16</td><td>1977</td></tr>\n",
       "\t<tr><td>1</td><td>2019-M020</td><td>Brisbane</td><td>Hard</td><td>32</td><td>A</td><td>20181231</td><td>299</td><td>106421</td><td>4 </td><td>⋯</td><td>52</td><td>36</td><td> 7</td><td>10</td><td>10</td><td>13</td><td> 16</td><td>1977</td><td>239</td><td> 200</td></tr>\n",
       "\t<tr><td>2</td><td>2019-M020</td><td>Brisbane</td><td>Hard</td><td>32</td><td>A</td><td>20181231</td><td>298</td><td>105453</td><td>2 </td><td>⋯</td><td>27</td><td>15</td><td> 6</td><td> 8</td><td> 1</td><td> 5</td><td>  9</td><td>3590</td><td> 40</td><td>1050</td></tr>\n",
       "\t<tr><td>3</td><td>2019-M020</td><td>Brisbane</td><td>Hard</td><td>32</td><td>A</td><td>20181231</td><td>297</td><td>104542</td><td>NA</td><td>⋯</td><td>60</td><td>38</td><td> 9</td><td>11</td><td> 4</td><td> 6</td><td>239</td><td> 200</td><td> 31</td><td>1298</td></tr>\n",
       "\t<tr><td>4</td><td>2019-M020</td><td>Brisbane</td><td>Hard</td><td>32</td><td>A</td><td>20181231</td><td>296</td><td>106421</td><td>4 </td><td>⋯</td><td>56</td><td>46</td><td>19</td><td>15</td><td> 2</td><td> 4</td><td> 16</td><td>1977</td><td> 18</td><td>1855</td></tr>\n",
       "\t<tr><td>⋮</td><td>⋮</td><td>⋮</td><td>⋮</td><td>⋮</td><td>⋮</td><td>⋮</td><td>⋮</td><td>⋮</td><td>⋮</td><td>⋱</td><td>⋮</td><td>⋮</td><td>⋮</td><td>⋮</td><td>⋮</td><td>⋮</td><td>⋮</td><td>⋮</td><td>⋮</td><td>⋮</td></tr>\n",
       "\t<tr><td>2881</td><td>2017-0605                     </td><td>Tour Finals               </td><td>Hard</td><td>8</td><td>F</td><td>20171113</td><td>300</td><td>105777</td><td>6.0</td><td>⋯</td><td>54</td><td>42</td><td>22</td><td>15</td><td>11</td><td>15</td><td> 6</td><td>3650</td><td> 8</td><td>2975</td></tr>\n",
       "\t<tr><td>2882</td><td>2017-M-DC-2017-WG-M-BEL-FRA-01</td><td>Davis Cup WG F: BEL vs FRA</td><td>Hard</td><td>4</td><td>D</td><td>20171124</td><td>  1</td><td>105676</td><td>NA </td><td>⋯</td><td>53</td><td>33</td><td>21</td><td>14</td><td> 6</td><td>11</td><td> 7</td><td>3775</td><td>18</td><td>2235</td></tr>\n",
       "\t<tr><td>2883</td><td>2017-M-DC-2017-WG-M-BEL-FRA-01</td><td>Davis Cup WG F: BEL vs FRA</td><td>Hard</td><td>4</td><td>D</td><td>20171124</td><td>  2</td><td>104542</td><td>NA </td><td>⋯</td><td>54</td><td>30</td><td>12</td><td>12</td><td> 5</td><td>11</td><td>15</td><td>2320</td><td>76</td><td> 667</td></tr>\n",
       "\t<tr><td>2884</td><td>2017-M-DC-2017-WG-M-BEL-FRA-01</td><td>Davis Cup WG F: BEL vs FRA</td><td>Hard</td><td>4</td><td>D</td><td>20171124</td><td>  4</td><td>105676</td><td>NA </td><td>⋯</td><td>54</td><td>44</td><td>13</td><td>14</td><td> 7</td><td>10</td><td> 7</td><td>3775</td><td>15</td><td>2320</td></tr>\n",
       "\t<tr><td>2885</td><td>2017-M-DC-2017-WG-M-BEL-FRA-01</td><td>Davis Cup WG F: BEL vs FRA</td><td>Hard</td><td>4</td><td>D</td><td>20171124</td><td>  5</td><td>106298</td><td>NA </td><td>⋯</td><td>53</td><td>29</td><td>11</td><td>11</td><td> 4</td><td>11</td><td>18</td><td>2235</td><td>76</td><td> 667</td></tr>\n",
       "</tbody>\n",
       "</table>\n"
      ],
      "text/latex": [
       "A spec\\_tbl\\_df: 6866 × 50\n",
       "\\begin{tabular}{lllllllllllllllllllll}\n",
       " ...1 & tourney\\_id & tourney\\_name & surface & draw\\_size & tourney\\_level & tourney\\_date & match\\_num & winner\\_id & winner\\_seed & ⋯ & l\\_1stIn & l\\_1stWon & l\\_2ndWon & l\\_SvGms & l\\_bpSaved & l\\_bpFaced & winner\\_rank & winner\\_rank\\_points & loser\\_rank & loser\\_rank\\_points\\\\\n",
       " <dbl> & <chr> & <chr> & <chr> & <dbl> & <chr> & <dbl> & <dbl> & <dbl> & <chr> & ⋯ & <dbl> & <dbl> & <dbl> & <dbl> & <dbl> & <dbl> & <dbl> & <dbl> & <dbl> & <dbl>\\\\\n",
       "\\hline\n",
       "\t 0 & 2019-M020 & Brisbane & Hard & 32 & A & 20181231 & 300 & 105453 & 2  & ⋯ & 54 & 34 & 20 & 14 & 10 & 15 &   9 & 3590 &  16 & 1977\\\\\n",
       "\t 1 & 2019-M020 & Brisbane & Hard & 32 & A & 20181231 & 299 & 106421 & 4  & ⋯ & 52 & 36 &  7 & 10 & 10 & 13 &  16 & 1977 & 239 &  200\\\\\n",
       "\t 2 & 2019-M020 & Brisbane & Hard & 32 & A & 20181231 & 298 & 105453 & 2  & ⋯ & 27 & 15 &  6 &  8 &  1 &  5 &   9 & 3590 &  40 & 1050\\\\\n",
       "\t 3 & 2019-M020 & Brisbane & Hard & 32 & A & 20181231 & 297 & 104542 & NA & ⋯ & 60 & 38 &  9 & 11 &  4 &  6 & 239 &  200 &  31 & 1298\\\\\n",
       "\t 4 & 2019-M020 & Brisbane & Hard & 32 & A & 20181231 & 296 & 106421 & 4  & ⋯ & 56 & 46 & 19 & 15 &  2 &  4 &  16 & 1977 &  18 & 1855\\\\\n",
       "\t ⋮ & ⋮ & ⋮ & ⋮ & ⋮ & ⋮ & ⋮ & ⋮ & ⋮ & ⋮ & ⋱ & ⋮ & ⋮ & ⋮ & ⋮ & ⋮ & ⋮ & ⋮ & ⋮ & ⋮ & ⋮\\\\\n",
       "\t 2881 & 2017-0605                      & Tour Finals                & Hard & 8 & F & 20171113 & 300 & 105777 & 6.0 & ⋯ & 54 & 42 & 22 & 15 & 11 & 15 &  6 & 3650 &  8 & 2975\\\\\n",
       "\t 2882 & 2017-M-DC-2017-WG-M-BEL-FRA-01 & Davis Cup WG F: BEL vs FRA & Hard & 4 & D & 20171124 &   1 & 105676 & NA  & ⋯ & 53 & 33 & 21 & 14 &  6 & 11 &  7 & 3775 & 18 & 2235\\\\\n",
       "\t 2883 & 2017-M-DC-2017-WG-M-BEL-FRA-01 & Davis Cup WG F: BEL vs FRA & Hard & 4 & D & 20171124 &   2 & 104542 & NA  & ⋯ & 54 & 30 & 12 & 12 &  5 & 11 & 15 & 2320 & 76 &  667\\\\\n",
       "\t 2884 & 2017-M-DC-2017-WG-M-BEL-FRA-01 & Davis Cup WG F: BEL vs FRA & Hard & 4 & D & 20171124 &   4 & 105676 & NA  & ⋯ & 54 & 44 & 13 & 14 &  7 & 10 &  7 & 3775 & 15 & 2320\\\\\n",
       "\t 2885 & 2017-M-DC-2017-WG-M-BEL-FRA-01 & Davis Cup WG F: BEL vs FRA & Hard & 4 & D & 20171124 &   5 & 106298 & NA  & ⋯ & 53 & 29 & 11 & 11 &  4 & 11 & 18 & 2235 & 76 &  667\\\\\n",
       "\\end{tabular}\n"
      ],
      "text/markdown": [
       "\n",
       "A spec_tbl_df: 6866 × 50\n",
       "\n",
       "| ...1 &lt;dbl&gt; | tourney_id &lt;chr&gt; | tourney_name &lt;chr&gt; | surface &lt;chr&gt; | draw_size &lt;dbl&gt; | tourney_level &lt;chr&gt; | tourney_date &lt;dbl&gt; | match_num &lt;dbl&gt; | winner_id &lt;dbl&gt; | winner_seed &lt;chr&gt; | ⋯ ⋯ | l_1stIn &lt;dbl&gt; | l_1stWon &lt;dbl&gt; | l_2ndWon &lt;dbl&gt; | l_SvGms &lt;dbl&gt; | l_bpSaved &lt;dbl&gt; | l_bpFaced &lt;dbl&gt; | winner_rank &lt;dbl&gt; | winner_rank_points &lt;dbl&gt; | loser_rank &lt;dbl&gt; | loser_rank_points &lt;dbl&gt; |\n",
       "|---|---|---|---|---|---|---|---|---|---|---|---|---|---|---|---|---|---|---|---|---|\n",
       "| 0 | 2019-M020 | Brisbane | Hard | 32 | A | 20181231 | 300 | 105453 | 2  | ⋯ | 54 | 34 | 20 | 14 | 10 | 15 |   9 | 3590 |  16 | 1977 |\n",
       "| 1 | 2019-M020 | Brisbane | Hard | 32 | A | 20181231 | 299 | 106421 | 4  | ⋯ | 52 | 36 |  7 | 10 | 10 | 13 |  16 | 1977 | 239 |  200 |\n",
       "| 2 | 2019-M020 | Brisbane | Hard | 32 | A | 20181231 | 298 | 105453 | 2  | ⋯ | 27 | 15 |  6 |  8 |  1 |  5 |   9 | 3590 |  40 | 1050 |\n",
       "| 3 | 2019-M020 | Brisbane | Hard | 32 | A | 20181231 | 297 | 104542 | NA | ⋯ | 60 | 38 |  9 | 11 |  4 |  6 | 239 |  200 |  31 | 1298 |\n",
       "| 4 | 2019-M020 | Brisbane | Hard | 32 | A | 20181231 | 296 | 106421 | 4  | ⋯ | 56 | 46 | 19 | 15 |  2 |  4 |  16 | 1977 |  18 | 1855 |\n",
       "| ⋮ | ⋮ | ⋮ | ⋮ | ⋮ | ⋮ | ⋮ | ⋮ | ⋮ | ⋮ | ⋱ | ⋮ | ⋮ | ⋮ | ⋮ | ⋮ | ⋮ | ⋮ | ⋮ | ⋮ | ⋮ |\n",
       "| 2881 | 2017-0605                      | Tour Finals                | Hard | 8 | F | 20171113 | 300 | 105777 | 6.0 | ⋯ | 54 | 42 | 22 | 15 | 11 | 15 |  6 | 3650 |  8 | 2975 |\n",
       "| 2882 | 2017-M-DC-2017-WG-M-BEL-FRA-01 | Davis Cup WG F: BEL vs FRA | Hard | 4 | D | 20171124 |   1 | 105676 | NA  | ⋯ | 53 | 33 | 21 | 14 |  6 | 11 |  7 | 3775 | 18 | 2235 |\n",
       "| 2883 | 2017-M-DC-2017-WG-M-BEL-FRA-01 | Davis Cup WG F: BEL vs FRA | Hard | 4 | D | 20171124 |   2 | 104542 | NA  | ⋯ | 54 | 30 | 12 | 12 |  5 | 11 | 15 | 2320 | 76 |  667 |\n",
       "| 2884 | 2017-M-DC-2017-WG-M-BEL-FRA-01 | Davis Cup WG F: BEL vs FRA | Hard | 4 | D | 20171124 |   4 | 105676 | NA  | ⋯ | 54 | 44 | 13 | 14 |  7 | 10 |  7 | 3775 | 15 | 2320 |\n",
       "| 2885 | 2017-M-DC-2017-WG-M-BEL-FRA-01 | Davis Cup WG F: BEL vs FRA | Hard | 4 | D | 20171124 |   5 | 106298 | NA  | ⋯ | 53 | 29 | 11 | 11 |  4 | 11 | 18 | 2235 | 76 |  667 |\n",
       "\n"
      ],
      "text/plain": [
       "     ...1 tourney_id                     tourney_name               surface\n",
       "1    0    2019-M020                      Brisbane                   Hard   \n",
       "2    1    2019-M020                      Brisbane                   Hard   \n",
       "3    2    2019-M020                      Brisbane                   Hard   \n",
       "4    3    2019-M020                      Brisbane                   Hard   \n",
       "5    4    2019-M020                      Brisbane                   Hard   \n",
       "⋮    ⋮    ⋮                              ⋮                          ⋮      \n",
       "6862 2881 2017-0605                      Tour Finals                Hard   \n",
       "6863 2882 2017-M-DC-2017-WG-M-BEL-FRA-01 Davis Cup WG F: BEL vs FRA Hard   \n",
       "6864 2883 2017-M-DC-2017-WG-M-BEL-FRA-01 Davis Cup WG F: BEL vs FRA Hard   \n",
       "6865 2884 2017-M-DC-2017-WG-M-BEL-FRA-01 Davis Cup WG F: BEL vs FRA Hard   \n",
       "6866 2885 2017-M-DC-2017-WG-M-BEL-FRA-01 Davis Cup WG F: BEL vs FRA Hard   \n",
       "     draw_size tourney_level tourney_date match_num winner_id winner_seed ⋯\n",
       "1    32        A             20181231     300       105453    2           ⋯\n",
       "2    32        A             20181231     299       106421    4           ⋯\n",
       "3    32        A             20181231     298       105453    2           ⋯\n",
       "4    32        A             20181231     297       104542    NA          ⋯\n",
       "5    32        A             20181231     296       106421    4           ⋯\n",
       "⋮    ⋮         ⋮             ⋮            ⋮         ⋮         ⋮           ⋱\n",
       "6862 8         F             20171113     300       105777    6.0         ⋯\n",
       "6863 4         D             20171124       1       105676    NA          ⋯\n",
       "6864 4         D             20171124       2       104542    NA          ⋯\n",
       "6865 4         D             20171124       4       105676    NA          ⋯\n",
       "6866 4         D             20171124       5       106298    NA          ⋯\n",
       "     l_1stIn l_1stWon l_2ndWon l_SvGms l_bpSaved l_bpFaced winner_rank\n",
       "1    54      34       20       14      10        15          9        \n",
       "2    52      36        7       10      10        13         16        \n",
       "3    27      15        6        8       1         5          9        \n",
       "4    60      38        9       11       4         6        239        \n",
       "5    56      46       19       15       2         4         16        \n",
       "⋮    ⋮       ⋮        ⋮        ⋮       ⋮         ⋮         ⋮          \n",
       "6862 54      42       22       15      11        15         6         \n",
       "6863 53      33       21       14       6        11         7         \n",
       "6864 54      30       12       12       5        11        15         \n",
       "6865 54      44       13       14       7        10         7         \n",
       "6866 53      29       11       11       4        11        18         \n",
       "     winner_rank_points loser_rank loser_rank_points\n",
       "1    3590                16        1977             \n",
       "2    1977               239         200             \n",
       "3    3590                40        1050             \n",
       "4     200                31        1298             \n",
       "5    1977                18        1855             \n",
       "⋮    ⋮                  ⋮          ⋮                \n",
       "6862 3650                8         2975             \n",
       "6863 3775               18         2235             \n",
       "6864 2320               76          667             \n",
       "6865 3775               15         2320             \n",
       "6866 2235               76          667             "
      ]
     },
     "metadata": {},
     "output_type": "display_data"
    }
   ],
   "source": [
    "url <- \"https://raw.githubusercontent.com/Windy-Huang/DSCI-100-009-22/main/atp2017-2019.csv\"\n",
    "tennis_data <- read_csv(url)\n",
    "tennis_data"
   ]
  },
  {
   "cell_type": "code",
   "execution_count": 19,
   "id": "fe115999-222e-4c11-ac6d-930e9ab94b4a",
   "metadata": {
    "tags": []
   },
   "outputs": [
    {
     "data": {
      "text/html": [
       "<table class=\"dataframe\">\n",
       "<caption>A tibble: 6866 × 6</caption>\n",
       "<thead>\n",
       "\t<tr><th scope=col>tourney_level</th><th scope=col>winner_name</th><th scope=col>winner_age</th><th scope=col>winner_rank</th><th scope=col>minutes</th><th scope=col>best_of</th></tr>\n",
       "\t<tr><th scope=col>&lt;chr&gt;</th><th scope=col>&lt;chr&gt;</th><th scope=col>&lt;dbl&gt;</th><th scope=col>&lt;dbl&gt;</th><th scope=col>&lt;dbl&gt;</th><th scope=col>&lt;dbl&gt;</th></tr>\n",
       "</thead>\n",
       "<tbody>\n",
       "\t<tr><td>A</td><td>Kei Nishikori     </td><td>29.00479</td><td>  9</td><td>124</td><td>3</td></tr>\n",
       "\t<tr><td>A</td><td>Daniil Medvedev   </td><td>22.88569</td><td> 16</td><td> 82</td><td>3</td></tr>\n",
       "\t<tr><td>A</td><td>Kei Nishikori     </td><td>29.00479</td><td>  9</td><td> 66</td><td>3</td></tr>\n",
       "\t<tr><td>A</td><td>Jo Wilfried Tsonga</td><td>33.70568</td><td>239</td><td>106</td><td>3</td></tr>\n",
       "\t<tr><td>A</td><td>Daniil Medvedev   </td><td>22.88569</td><td> 16</td><td>129</td><td>3</td></tr>\n",
       "\t<tr><td>⋮</td><td>⋮</td><td>⋮</td><td>⋮</td><td>⋮</td><td>⋮</td></tr>\n",
       "\t<tr><td>F</td><td>Grigor Dimitrov   </td><td>26.49692</td><td> 6</td><td>150</td><td>3</td></tr>\n",
       "\t<tr><td>D</td><td>David Goffin      </td><td>26.95414</td><td> 7</td><td>119</td><td>3</td></tr>\n",
       "\t<tr><td>D</td><td>Jo Wilfried Tsonga</td><td>32.59411</td><td>15</td><td>106</td><td>5</td></tr>\n",
       "\t<tr><td>D</td><td>David Goffin      </td><td>26.95414</td><td> 7</td><td>164</td><td>3</td></tr>\n",
       "\t<tr><td>D</td><td>Lucas Pouille     </td><td>23.73990</td><td>18</td><td> 94</td><td>5</td></tr>\n",
       "</tbody>\n",
       "</table>\n"
      ],
      "text/latex": [
       "A tibble: 6866 × 6\n",
       "\\begin{tabular}{llllll}\n",
       " tourney\\_level & winner\\_name & winner\\_age & winner\\_rank & minutes & best\\_of\\\\\n",
       " <chr> & <chr> & <dbl> & <dbl> & <dbl> & <dbl>\\\\\n",
       "\\hline\n",
       "\t A & Kei Nishikori      & 29.00479 &   9 & 124 & 3\\\\\n",
       "\t A & Daniil Medvedev    & 22.88569 &  16 &  82 & 3\\\\\n",
       "\t A & Kei Nishikori      & 29.00479 &   9 &  66 & 3\\\\\n",
       "\t A & Jo Wilfried Tsonga & 33.70568 & 239 & 106 & 3\\\\\n",
       "\t A & Daniil Medvedev    & 22.88569 &  16 & 129 & 3\\\\\n",
       "\t ⋮ & ⋮ & ⋮ & ⋮ & ⋮ & ⋮\\\\\n",
       "\t F & Grigor Dimitrov    & 26.49692 &  6 & 150 & 3\\\\\n",
       "\t D & David Goffin       & 26.95414 &  7 & 119 & 3\\\\\n",
       "\t D & Jo Wilfried Tsonga & 32.59411 & 15 & 106 & 5\\\\\n",
       "\t D & David Goffin       & 26.95414 &  7 & 164 & 3\\\\\n",
       "\t D & Lucas Pouille      & 23.73990 & 18 &  94 & 5\\\\\n",
       "\\end{tabular}\n"
      ],
      "text/markdown": [
       "\n",
       "A tibble: 6866 × 6\n",
       "\n",
       "| tourney_level &lt;chr&gt; | winner_name &lt;chr&gt; | winner_age &lt;dbl&gt; | winner_rank &lt;dbl&gt; | minutes &lt;dbl&gt; | best_of &lt;dbl&gt; |\n",
       "|---|---|---|---|---|---|\n",
       "| A | Kei Nishikori      | 29.00479 |   9 | 124 | 3 |\n",
       "| A | Daniil Medvedev    | 22.88569 |  16 |  82 | 3 |\n",
       "| A | Kei Nishikori      | 29.00479 |   9 |  66 | 3 |\n",
       "| A | Jo Wilfried Tsonga | 33.70568 | 239 | 106 | 3 |\n",
       "| A | Daniil Medvedev    | 22.88569 |  16 | 129 | 3 |\n",
       "| ⋮ | ⋮ | ⋮ | ⋮ | ⋮ | ⋮ |\n",
       "| F | Grigor Dimitrov    | 26.49692 |  6 | 150 | 3 |\n",
       "| D | David Goffin       | 26.95414 |  7 | 119 | 3 |\n",
       "| D | Jo Wilfried Tsonga | 32.59411 | 15 | 106 | 5 |\n",
       "| D | David Goffin       | 26.95414 |  7 | 164 | 3 |\n",
       "| D | Lucas Pouille      | 23.73990 | 18 |  94 | 5 |\n",
       "\n"
      ],
      "text/plain": [
       "     tourney_level winner_name        winner_age winner_rank minutes best_of\n",
       "1    A             Kei Nishikori      29.00479     9         124     3      \n",
       "2    A             Daniil Medvedev    22.88569    16          82     3      \n",
       "3    A             Kei Nishikori      29.00479     9          66     3      \n",
       "4    A             Jo Wilfried Tsonga 33.70568   239         106     3      \n",
       "5    A             Daniil Medvedev    22.88569    16         129     3      \n",
       "⋮    ⋮             ⋮                  ⋮          ⋮           ⋮       ⋮      \n",
       "6862 F             Grigor Dimitrov    26.49692    6          150     3      \n",
       "6863 D             David Goffin       26.95414    7          119     3      \n",
       "6864 D             Jo Wilfried Tsonga 32.59411   15          106     5      \n",
       "6865 D             David Goffin       26.95414    7          164     3      \n",
       "6866 D             Lucas Pouille      23.73990   18           94     5      "
      ]
     },
     "metadata": {},
     "output_type": "display_data"
    }
   ],
   "source": [
    "tennis_selected <- tennis_data |>\n",
    "    select(tourney_level, winner_name, winner_age, winner_rank, minutes, best_of)\n",
    "tennis_selected"
   ]
  },
  {
   "cell_type": "code",
   "execution_count": 20,
   "id": "66507a32-b542-4f49-a1cc-c3881add61c4",
   "metadata": {
    "tags": []
   },
   "outputs": [
    {
     "data": {
      "text/html": [
       "<table class=\"dataframe\">\n",
       "<caption>A tibble: 1264 × 6</caption>\n",
       "<thead>\n",
       "\t<tr><th scope=col>tourney_level</th><th scope=col>winner_name</th><th scope=col>winner_age</th><th scope=col>winner_rank</th><th scope=col>minutes</th><th scope=col>best_of</th></tr>\n",
       "\t<tr><th scope=col>&lt;chr&gt;</th><th scope=col>&lt;chr&gt;</th><th scope=col>&lt;dbl&gt;</th><th scope=col>&lt;dbl&gt;</th><th scope=col>&lt;dbl&gt;</th><th scope=col>&lt;dbl&gt;</th></tr>\n",
       "</thead>\n",
       "<tbody>\n",
       "\t<tr><td>G</td><td>Novak Djokovic    </td><td>31.64956</td><td>  1</td><td>123</td><td>5</td></tr>\n",
       "\t<tr><td>G</td><td>Jo Wilfried Tsonga</td><td>33.74401</td><td>177</td><td>146</td><td>5</td></tr>\n",
       "\t<tr><td>G</td><td>Taro Daniel       </td><td>25.96304</td><td> 82</td><td> 92</td><td>5</td></tr>\n",
       "\t<tr><td>G</td><td>Denis Shapovalov  </td><td>19.75086</td><td> 27</td><td>115</td><td>5</td></tr>\n",
       "\t<tr><td>G</td><td>David Goffin      </td><td>28.10404</td><td> 22</td><td> 88</td><td>5</td></tr>\n",
       "\t<tr><td>⋮</td><td>⋮</td><td>⋮</td><td>⋮</td><td>⋮</td><td>⋮</td></tr>\n",
       "\t<tr><td>G</td><td>Kevin Anderson     </td><td>31.27995</td><td>32</td><td>206</td><td>5</td></tr>\n",
       "\t<tr><td>G</td><td>Pablo Carreno Busta</td><td>26.13005</td><td>19</td><td>119</td><td>5</td></tr>\n",
       "\t<tr><td>G</td><td>Rafael Nadal       </td><td>31.23614</td><td> 1</td><td>150</td><td>5</td></tr>\n",
       "\t<tr><td>G</td><td>Kevin Anderson     </td><td>31.27995</td><td>32</td><td>175</td><td>5</td></tr>\n",
       "\t<tr><td>G</td><td>Rafael Nadal       </td><td>31.23614</td><td> 1</td><td>147</td><td>5</td></tr>\n",
       "</tbody>\n",
       "</table>\n"
      ],
      "text/latex": [
       "A tibble: 1264 × 6\n",
       "\\begin{tabular}{llllll}\n",
       " tourney\\_level & winner\\_name & winner\\_age & winner\\_rank & minutes & best\\_of\\\\\n",
       " <chr> & <chr> & <dbl> & <dbl> & <dbl> & <dbl>\\\\\n",
       "\\hline\n",
       "\t G & Novak Djokovic     & 31.64956 &   1 & 123 & 5\\\\\n",
       "\t G & Jo Wilfried Tsonga & 33.74401 & 177 & 146 & 5\\\\\n",
       "\t G & Taro Daniel        & 25.96304 &  82 &  92 & 5\\\\\n",
       "\t G & Denis Shapovalov   & 19.75086 &  27 & 115 & 5\\\\\n",
       "\t G & David Goffin       & 28.10404 &  22 &  88 & 5\\\\\n",
       "\t ⋮ & ⋮ & ⋮ & ⋮ & ⋮ & ⋮\\\\\n",
       "\t G & Kevin Anderson      & 31.27995 & 32 & 206 & 5\\\\\n",
       "\t G & Pablo Carreno Busta & 26.13005 & 19 & 119 & 5\\\\\n",
       "\t G & Rafael Nadal        & 31.23614 &  1 & 150 & 5\\\\\n",
       "\t G & Kevin Anderson      & 31.27995 & 32 & 175 & 5\\\\\n",
       "\t G & Rafael Nadal        & 31.23614 &  1 & 147 & 5\\\\\n",
       "\\end{tabular}\n"
      ],
      "text/markdown": [
       "\n",
       "A tibble: 1264 × 6\n",
       "\n",
       "| tourney_level &lt;chr&gt; | winner_name &lt;chr&gt; | winner_age &lt;dbl&gt; | winner_rank &lt;dbl&gt; | minutes &lt;dbl&gt; | best_of &lt;dbl&gt; |\n",
       "|---|---|---|---|---|---|\n",
       "| G | Novak Djokovic     | 31.64956 |   1 | 123 | 5 |\n",
       "| G | Jo Wilfried Tsonga | 33.74401 | 177 | 146 | 5 |\n",
       "| G | Taro Daniel        | 25.96304 |  82 |  92 | 5 |\n",
       "| G | Denis Shapovalov   | 19.75086 |  27 | 115 | 5 |\n",
       "| G | David Goffin       | 28.10404 |  22 |  88 | 5 |\n",
       "| ⋮ | ⋮ | ⋮ | ⋮ | ⋮ | ⋮ |\n",
       "| G | Kevin Anderson      | 31.27995 | 32 | 206 | 5 |\n",
       "| G | Pablo Carreno Busta | 26.13005 | 19 | 119 | 5 |\n",
       "| G | Rafael Nadal        | 31.23614 |  1 | 150 | 5 |\n",
       "| G | Kevin Anderson      | 31.27995 | 32 | 175 | 5 |\n",
       "| G | Rafael Nadal        | 31.23614 |  1 | 147 | 5 |\n",
       "\n"
      ],
      "text/plain": [
       "     tourney_level winner_name         winner_age winner_rank minutes best_of\n",
       "1    G             Novak Djokovic      31.64956     1         123     5      \n",
       "2    G             Jo Wilfried Tsonga  33.74401   177         146     5      \n",
       "3    G             Taro Daniel         25.96304    82          92     5      \n",
       "4    G             Denis Shapovalov    19.75086    27         115     5      \n",
       "5    G             David Goffin        28.10404    22          88     5      \n",
       "⋮    ⋮             ⋮                   ⋮          ⋮           ⋮       ⋮      \n",
       "1260 G             Kevin Anderson      31.27995   32          206     5      \n",
       "1261 G             Pablo Carreno Busta 26.13005   19          119     5      \n",
       "1262 G             Rafael Nadal        31.23614    1          150     5      \n",
       "1263 G             Kevin Anderson      31.27995   32          175     5      \n",
       "1264 G             Rafael Nadal        31.23614    1          147     5      "
      ]
     },
     "metadata": {},
     "output_type": "display_data"
    }
   ],
   "source": [
    "tennis_filtered_tourney_level <- tennis_selected |>\n",
    "    filter(tourney_level == \"G\")\n",
    "tennis_filtered_tourney_level \n"
   ]
  },
  {
   "cell_type": "code",
   "execution_count": null,
   "id": "b5aafc90-d181-48c5-b70f-3319aa3b486f",
   "metadata": {},
   "outputs": [],
   "source": []
  }
 ],
 "metadata": {
  "kernelspec": {
   "display_name": "R",
   "language": "R",
   "name": "ir"
  },
  "language_info": {
   "codemirror_mode": "r",
   "file_extension": ".r",
   "mimetype": "text/x-r-source",
   "name": "R",
   "pygments_lexer": "r",
   "version": "4.2.2"
  }
 },
 "nbformat": 4,
 "nbformat_minor": 5
}
